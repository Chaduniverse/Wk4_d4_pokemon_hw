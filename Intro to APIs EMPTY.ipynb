{
 "cells": [
  {
   "cell_type": "markdown",
   "id": "7196054f",
   "metadata": {},
   "source": [
    "# Working with APIs"
   ]
  },
  {
   "cell_type": "markdown",
   "id": "0547b71e",
   "metadata": {},
   "source": [
    "API stands for Application programming interface<br>\n",
    "APIs are a way for applications to talk to eachother<br>\n",
    "In python we use the requests package to handle the connection<br>\n",
    "<small><strong>Note: It is requests with an s not request(this is a different package)</strong></small><br>\n",
    "Most API's communicate with data in the form of JSON<br>\n",
    "JSON stands for JavaScript Object Notation"
   ]
  },
  {
   "attachments": {},
   "cell_type": "markdown",
   "id": "cc80a1f0",
   "metadata": {},
   "source": [
    "### importing requests module"
   ]
  },
  {
   "cell_type": "code",
   "execution_count": 9,
   "id": "4db9d154",
   "metadata": {},
   "outputs": [],
   "source": [
    "import requests\n"
   ]
  },
  {
   "cell_type": "markdown",
   "id": "e8c2ce51",
   "metadata": {},
   "source": [
    "We will be connecting to the Ergast F1 Racer API today:\n",
    "http://ergast.com/mrd/\n",
    "\n",
    "to view JSON data nicely in the Chrome browser install the extension JSONview"
   ]
  },
  {
   "cell_type": "code",
   "execution_count": 3,
   "id": "4164328e",
   "metadata": {},
   "outputs": [],
   "source": [
    "url = 'http://ergast.com/api/f1/2008/5/driverStandings.json'"
   ]
  },
  {
   "attachments": {},
   "cell_type": "markdown",
   "id": "1f8dc8b3",
   "metadata": {},
   "source": [
    "### using the request package to access data from api/url"
   ]
  },
  {
   "cell_type": "code",
   "execution_count": 13,
   "id": "f60c1b4a",
   "metadata": {},
   "outputs": [],
   "source": [
    " response = requests.get(url)"
   ]
  },
  {
   "attachments": {},
   "cell_type": "markdown",
   "id": "52f840a9",
   "metadata": {},
   "source": [
    "### checking and making sure we got a successful response from our API\n",
    "#### status codes: 200 = ok/successful, 400 = bad/unsuccessful"
   ]
  },
  {
   "cell_type": "code",
   "execution_count": 15,
   "id": "7b63a204",
   "metadata": {},
   "outputs": [
    {
     "data": {
      "text/plain": [
       "200"
      ]
     },
     "execution_count": 15,
     "metadata": {},
     "output_type": "execute_result"
    }
   ],
   "source": [
    "response.status_code"
   ]
  },
  {
   "attachments": {},
   "cell_type": "markdown",
   "id": "bc3fa89d",
   "metadata": {},
   "source": [
    "### view the response as a JSON with .json()"
   ]
  },
  {
   "cell_type": "code",
   "execution_count": 17,
   "id": "ed4d3256",
   "metadata": {},
   "outputs": [
    {
     "data": {
      "text/plain": [
       "dict"
      ]
     },
     "execution_count": 17,
     "metadata": {},
     "output_type": "execute_result"
    }
   ],
   "source": [
    "type(response.json())"
   ]
  },
  {
   "attachments": {},
   "cell_type": "markdown",
   "id": "3b49045f",
   "metadata": {},
   "source": [
    "### Get the Driver Standings Data from JSON"
   ]
  },
  {
   "cell_type": "code",
   "execution_count": 19,
   "id": "f074dfcf",
   "metadata": {},
   "outputs": [],
   "source": [
    "driver_standings_data =response.json()['MRData']['StandingsTable']['StandingsLists'][0]['DriverStandings']"
   ]
  },
  {
   "attachments": {},
   "cell_type": "markdown",
   "id": "459823db",
   "metadata": {},
   "source": [
    "### Use a for loop to display all driver full names"
   ]
  },
  {
   "cell_type": "code",
   "execution_count": 22,
   "id": "be46a950",
   "metadata": {},
   "outputs": [
    {
     "name": "stdout",
     "output_type": "stream",
     "text": [
      "Kimi Räikkönen\n",
      "Felipe Massa\n",
      "Lewis Hamilton\n",
      "Robert Kubica\n",
      "Nick Heidfeld\n",
      "Heikki Kovalainen\n",
      "Mark Webber\n",
      "Fernando Alonso\n",
      "Jarno Trulli\n",
      "Nico Rosberg\n",
      "Kazuki Nakajima\n",
      "Jenson Button\n",
      "Sébastien Bourdais\n",
      "David Coulthard\n",
      "Timo Glock\n",
      "Giancarlo Fisichella\n",
      "Rubens Barrichello\n",
      "Nelson Piquet Jr.\n",
      "Takuma Sato\n",
      "Anthony Davidson\n",
      "Adrian Sutil\n",
      "Sebastian Vettel\n"
     ]
    }
   ],
   "source": [
    "for driver in driver_standings_data:\n",
    "    print(driver['Driver']['givenName'], driver['Driver']['familyName'])"
   ]
  },
  {
   "attachments": {},
   "cell_type": "markdown",
   "id": "43c20f0d",
   "metadata": {},
   "source": [
    "### Create a function getting certain driver info (givenName, familyName, dateOfBirth, wins, team)"
   ]
  },
  {
   "cell_type": "code",
   "execution_count": 28,
   "id": "3740c752",
   "metadata": {},
   "outputs": [
    {
     "data": {
      "text/plain": [
       "[{\"('Kimi', 'Räikkönen')\": {'DOB': '1979-10-17',\n",
       "   'wins': '2',\n",
       "   'team': 'Ferrari'}},\n",
       " {\"('Felipe', 'Massa')\": {'DOB': '1981-04-25',\n",
       "   'wins': '2',\n",
       "   'team': 'Ferrari'}},\n",
       " {\"('Lewis', 'Hamilton')\": {'DOB': '1985-01-07',\n",
       "   'wins': '1',\n",
       "   'team': 'McLaren'}},\n",
       " {\"('Robert', 'Kubica')\": {'DOB': '1984-12-07',\n",
       "   'wins': '0',\n",
       "   'team': 'BMW Sauber'}},\n",
       " {\"('Nick', 'Heidfeld')\": {'DOB': '1977-05-10',\n",
       "   'wins': '0',\n",
       "   'team': 'BMW Sauber'}},\n",
       " {\"('Heikki', 'Kovalainen')\": {'DOB': '1981-10-19',\n",
       "   'wins': '0',\n",
       "   'team': 'McLaren'}},\n",
       " {\"('Mark', 'Webber')\": {'DOB': '1976-08-27',\n",
       "   'wins': '0',\n",
       "   'team': 'Red Bull'}},\n",
       " {\"('Fernando', 'Alonso')\": {'DOB': '1981-07-29',\n",
       "   'wins': '0',\n",
       "   'team': 'Renault'}},\n",
       " {\"('Jarno', 'Trulli')\": {'DOB': '1974-07-13', 'wins': '0', 'team': 'Toyota'}},\n",
       " {\"('Nico', 'Rosberg')\": {'DOB': '1985-06-27',\n",
       "   'wins': '0',\n",
       "   'team': 'Williams'}},\n",
       " {\"('Kazuki', 'Nakajima')\": {'DOB': '1985-01-11',\n",
       "   'wins': '0',\n",
       "   'team': 'Williams'}},\n",
       " {\"('Jenson', 'Button')\": {'DOB': '1980-01-19', 'wins': '0', 'team': 'Honda'}},\n",
       " {\"('Sébastien', 'Bourdais')\": {'DOB': '1979-02-28',\n",
       "   'wins': '0',\n",
       "   'team': 'Toro Rosso'}},\n",
       " {\"('David', 'Coulthard')\": {'DOB': '1971-03-27',\n",
       "   'wins': '0',\n",
       "   'team': 'Red Bull'}},\n",
       " {\"('Timo', 'Glock')\": {'DOB': '1982-03-18', 'wins': '0', 'team': 'Toyota'}},\n",
       " {\"('Giancarlo', 'Fisichella')\": {'DOB': '1973-01-14',\n",
       "   'wins': '0',\n",
       "   'team': 'Force India'}},\n",
       " {\"('Rubens', 'Barrichello')\": {'DOB': '1972-05-23',\n",
       "   'wins': '0',\n",
       "   'team': 'Honda'}},\n",
       " {\"('Nelson', 'Piquet Jr.')\": {'DOB': '1985-07-25',\n",
       "   'wins': '0',\n",
       "   'team': 'Renault'}},\n",
       " {\"('Takuma', 'Sato')\": {'DOB': '1977-01-28',\n",
       "   'wins': '0',\n",
       "   'team': 'Super Aguri'}},\n",
       " {\"('Anthony', 'Davidson')\": {'DOB': '1979-04-18',\n",
       "   'wins': '0',\n",
       "   'team': 'Super Aguri'}},\n",
       " {\"('Adrian', 'Sutil')\": {'DOB': '1983-01-11',\n",
       "   'wins': '0',\n",
       "   'team': 'Force India'}},\n",
       " {\"('Sebastian', 'Vettel')\": {'DOB': '1987-07-03',\n",
       "   'wins': '0',\n",
       "   'team': 'Toro Rosso'}}]"
      ]
     },
     "execution_count": 28,
     "metadata": {},
     "output_type": "execute_result"
    }
   ],
   "source": [
    "def get_driver_info(data): \n",
    "    new_driver_data = []\n",
    "    for driver in data:\n",
    "        driver_dict = {}\n",
    "        full_name = f\"{driver['Driver']['givenName'],driver['Driver']['familyName']}\"\n",
    "        driver_dict[full_name]= {\n",
    "            'DOB': driver['Driver']['dateOfBirth'],\n",
    "            'wins': driver['wins'], \n",
    "            'team':driver['Constructors'][0]['name'] \n",
    "            }\n",
    "        new_driver_data.append(driver_dict)\n",
    "    return new_driver_data  \n",
    "get_driver_info(driver_standings_data)"
   ]
  },
  {
   "attachments": {},
   "cell_type": "markdown",
   "id": "1a713b13",
   "metadata": {},
   "source": [
    "### Making a more flexible function to handle different years and rounds"
   ]
  },
  {
   "cell_type": "code",
   "execution_count": 24,
   "id": "e9866280",
   "metadata": {},
   "outputs": [],
   "source": [
    "pokemon_abilities = ['abilities']['1'] "
   ]
  },
  {
   "cell_type": "markdown",
   "id": "6d546014",
   "metadata": {},
   "source": [
    "# <strong>Homework</strong>\n",
    "check out this Pokemon API https://pokeapi.co/\n",
    "Use the requests package to connect to this API and get and store data for 5 different pokemon.\n",
    "Get the pokemons: name, atleast one ability's name, base_experience, and the URL for its sprite (an image that shows up on screen) for the 'front_shiny', attack base_stat, hp base_stat, defense base_stat"
   ]
  },
  {
   "cell_type": "code",
   "execution_count": 76,
   "id": "5a9081e3",
   "metadata": {},
   "outputs": [
    {
     "name": "stdout",
     "output_type": "stream",
     "text": [
      "{'Name': 'bulbasaur', 'Abilities': 'overgrow', 'Base Esperience': 64, 'Front Shiny URL': 'https://raw.githubusercontent.com/PokeAPI/sprites/master/sprites/pokemon/shiny/1.png', 'Attack Base Stat': 45, 'Defense Base Stat': 45}\n",
      "{'Name': 'mewtwo', 'Abilities': 'pressure', 'Base Esperience': 340, 'Front Shiny URL': 'https://raw.githubusercontent.com/PokeAPI/sprites/master/sprites/pokemon/shiny/150.png', 'Attack Base Stat': 106, 'Defense Base Stat': 106}\n",
      "{'Name': 'pikachu', 'Abilities': 'static', 'Base Esperience': 112, 'Front Shiny URL': 'https://raw.githubusercontent.com/PokeAPI/sprites/master/sprites/pokemon/shiny/25.png', 'Attack Base Stat': 35, 'Defense Base Stat': 35}\n",
      "{'Name': 'charizard', 'Abilities': 'blaze', 'Base Esperience': 267, 'Front Shiny URL': 'https://raw.githubusercontent.com/PokeAPI/sprites/master/sprites/pokemon/shiny/6.png', 'Attack Base Stat': 78, 'Defense Base Stat': 78}\n",
      "{'Name': 'squirtle', 'Abilities': 'torrent', 'Base Esperience': 63, 'Front Shiny URL': 'https://raw.githubusercontent.com/PokeAPI/sprites/master/sprites/pokemon/shiny/7.png', 'Attack Base Stat': 44, 'Defense Base Stat': 44}\n"
     ]
    }
   ],
   "source": [
    "\n",
    "import requests \n",
    "def whose_that_pokemon(pokemon_name):  \n",
    " \n",
    "    url = f'https://pokeapi.co/api/v2/pokemon/{pokemon_name}'  \n",
    "    response = requests.get(url)\n",
    "    if response.ok:\n",
    "        pokemon_attributes = response.json()\n",
    "        pokemon_info= {\n",
    "             'Name':pokemon_attributes['name'],\n",
    "             'Abilities':pokemon_attributes['abilities'][0]['ability']['name'],\n",
    "             'Base Esperience':pokemon_attributes['base_experience'],\n",
    "             'Front Shiny URL':pokemon_attributes['sprites']['front_shiny'],\n",
    "             'Attack Base Stat':pokemon_attributes['stats'][0]['base_stat'],\n",
    "             'Defense Base Stat':pokemon_attributes['stats'][0]['base_stat']\n",
    "            }\n",
    "        return pokemon_info\n",
    "    else: \n",
    "        return \"This is an invalid option.\" \n",
    "\n",
    "print(whose_that_pokemon('bulbasaur'))\n",
    "print(whose_that_pokemon('mewtwo'))\n",
    "print(whose_that_pokemon('pikachu'))\n",
    "print(whose_that_pokemon('charizard'))\n",
    "print(whose_that_pokemon('squirtle'))\n",
    "\n",
    "\n"
   ]
  },
  {
   "cell_type": "markdown",
   "id": "873ed57c",
   "metadata": {},
   "source": []
  }
 ],
 "metadata": {
  "kernelspec": {
   "display_name": "Python 3",
   "language": "python",
   "name": "python3"
  },
  "language_info": {
   "codemirror_mode": {
    "name": "ipython",
    "version": 3
   },
   "file_extension": ".py",
   "mimetype": "text/x-python",
   "name": "python",
   "nbconvert_exporter": "python",
   "pygments_lexer": "ipython3",
   "version": "3.9.7"
  },
  "vscode": {
   "interpreter": {
    "hash": "aee8b7b246df8f9039afb4144a1f6fd8d2ca17a180786b69acc140d282b71a49"
   }
  }
 },
 "nbformat": 4,
 "nbformat_minor": 5
}
